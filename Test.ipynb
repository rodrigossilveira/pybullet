{
 "cells": [
  {
   "cell_type": "code",
   "execution_count": 16,
   "metadata": {},
   "outputs": [],
   "source": [
    "import numpy as np\n",
    "import pybullet as p\n",
    "import pybullet_data\n",
    "import time"
   ]
  },
  {
   "cell_type": "code",
   "execution_count": 19,
   "metadata": {},
   "outputs": [],
   "source": [
    "p.connect(p.GUI)\n",
    "p.resetSimulation()\n",
    "p.setAdditionalSearchPath(pybullet_data.getDataPath())\n",
    "p.setGravity(0,0,-9.81)\n",
    "p.setRealTimeSimulation(0)"
   ]
  },
  {
   "cell_type": "code",
   "execution_count": 20,
   "metadata": {},
   "outputs": [],
   "source": [
    "p.loadURDF(\"plane.urdf\",[0,0,0],[0,0,0,1], useFixedBase = True)\n",
    "targid = p.loadURDF(\"franka_panda/panda.urdf\",[0,0,0],[0,0,0,1], useFixedBase = True)\n",
    "obj_of_focus = targid"
   ]
  },
  {
   "cell_type": "code",
   "execution_count": 21,
   "metadata": {},
   "outputs": [],
   "source": [
    "jointId = 4\n",
    "jlower = p.getJointInfo(targid, jointId)[8]\n",
    "jupper = p.getJointInfo(targid, jointId)[9]"
   ]
  },
  {
   "cell_type": "code",
   "execution_count": 22,
   "metadata": {},
   "outputs": [],
   "source": [
    "for step in range(300):\n",
    "    joint_two_targ = np.random.uniform(jlower,jupper)\n",
    "    joint_four_targ = np.random.uniform(jlower,jupper)\n",
    "    p.setJointMotorControlArray(targid, [2,4], p.POSITION_CONTROL, targetPositions = [joint_two_targ, joint_four_targ])\n",
    "    focus_position,_ = p.getBasePositionAndOrientation(targid)\n",
    "    p.resetDebugVisualizerCamera(cameraDistance=3, cameraYaw=0, cameraPitch=-40, cameraTargetPosition = focus_position)\n",
    "    p.stepSimulation()\n",
    "    time.sleep(0.1)"
   ]
  },
  {
   "cell_type": "code",
   "execution_count": null,
   "metadata": {},
   "outputs": [],
   "source": []
  }
 ],
 "metadata": {
  "kernelspec": {
   "display_name": "pybullet",
   "language": "python",
   "name": "python3"
  },
  "language_info": {
   "codemirror_mode": {
    "name": "ipython",
    "version": 3
   },
   "file_extension": ".py",
   "mimetype": "text/x-python",
   "name": "python",
   "nbconvert_exporter": "python",
   "pygments_lexer": "ipython3",
   "version": "3.9.13"
  },
  "orig_nbformat": 4
 },
 "nbformat": 4,
 "nbformat_minor": 2
}
